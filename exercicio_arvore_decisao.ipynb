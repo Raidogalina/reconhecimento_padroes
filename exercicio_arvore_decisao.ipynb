{
 "cells": [
  {
   "cell_type": "markdown",
   "metadata": {},
   "source": [
    "# Heurística para escolher o melhor valor de cada característica\n",
    "### Usando a Entropia ao invés da Impureza Gini"
   ]
  },
  {
   "cell_type": "code",
   "execution_count": 1,
   "metadata": {},
   "outputs": [],
   "source": [
    "# Importando o dataset da Iris\n",
    "\n",
    "from sklearn.datasets import load_iris\n",
    "iris = load_iris()\n",
    "X, y = iris.data[:,2:], iris.target"
   ]
  },
  {
   "cell_type": "code",
   "execution_count": 35,
   "metadata": {},
   "outputs": [],
   "source": [
    "from sklearn.base import BaseEstimator, ClassifierMixin\n",
    "from sklearn.model_selection import cross_validate\n",
    "from sklearn.metrics import accuracy_score\n",
    "from collections import Counter\n",
    "import matplotlib.pyplot as plt\n",
    "import numpy as np\n",
    "\n",
    "def entropia(y):\n",
    "    labels = list(set(y))\n",
    "    labels.sort()\n",
    "    probabilidades = np.zeros((len(labels),))\n",
    "    for i, k in enumerate(labels):\n",
    "        probabilidades[i] = sum(y==k)/len(y)\n",
    "    resultado = sum(-probabilidades*np.log10(probabilidades)) # Fiz o cálculo da entropia aqui\n",
    "    return resultado\n",
    "\n",
    "def entropiaValor(x, y, valor): #função custo que o algoritmo tenta minimizar\n",
    "    maiores = x>valor\n",
    "    entropiaMaiores = entropia(y[maiores])\n",
    "    propMaiores = sum(maiores)/len(y)\n",
    "    entropiaMenores = entropia(y[~maiores])\n",
    "    propMenores = sum(~maiores)/len(y)\n",
    "    entropiaTotal = propMaiores*entropiaMaiores + propMenores*entropiaMenores\n",
    "    return entropiaTotal, entropiaMaiores, entropiaMenores"
   ]
  },
  {
   "cell_type": "code",
   "execution_count": 36,
   "metadata": {},
   "outputs": [
    {
     "data": {
      "text/plain": [
       "0.4771212547196624"
      ]
     },
     "execution_count": 36,
     "metadata": {},
     "output_type": "execute_result"
    }
   ],
   "source": [
    "ytmp = y[:]\n",
    "valor = entropia(ytmp)\n",
    "valor"
   ]
  },
  {
   "cell_type": "code",
   "execution_count": 37,
   "metadata": {},
   "outputs": [
    {
     "data": {
      "text/plain": [
       "(0.20068666377598746, 0.3010299956639812, 0.0)"
      ]
     },
     "execution_count": 37,
     "metadata": {},
     "output_type": "execute_result"
    }
   ],
   "source": [
    "entropiaValor(X[:,0], y, 2.5)"
   ]
  },
  {
   "cell_type": "code",
   "execution_count": 38,
   "metadata": {},
   "outputs": [],
   "source": [
    "# Criar uma heurística para encontrar o melhor valor para cada característica\n",
    "\n",
    "def melhorValor(x, y):\n",
    "    result = None\n",
    "    menorEntropia = float('inf')\n",
    "    xmax = np.max(x)\n",
    "    xmin = np.min(x)\n",
    "    while True:\n",
    "        valor = (xmin+xmax)/2\n",
    "        entTotal, entMaiores, entMenores = entropiaValor(x, y, valor)\n",
    "        if entTotal < menorEntropia:\n",
    "            menorEntropia = entTotal\n",
    "            result = valor\n",
    "            if entMaiores == 0 or entMenores == 0:\n",
    "                break\n",
    "            if entMaiores < entMenores:\n",
    "                xmin = valor\n",
    "            else:\n",
    "                xmax = valor\n",
    "        else:\n",
    "            break\n",
    "    return result, menorEntropia"
   ]
  },
  {
   "cell_type": "code",
   "execution_count": 39,
   "metadata": {},
   "outputs": [
    {
     "data": {
      "text/plain": [
       "(2.475, 0.20068666377598746)"
      ]
     },
     "execution_count": 39,
     "metadata": {},
     "output_type": "execute_result"
    }
   ],
   "source": [
    "melhorValor(X[:,0], y)"
   ]
  },
  {
   "cell_type": "code",
   "execution_count": 40,
   "metadata": {},
   "outputs": [],
   "source": [
    "# A partir dos valores da menor característica, encontrar a menor característica\n",
    "\n",
    "def melhorCaracteristica(X, y):\n",
    "    entropia = []\n",
    "    valores = []\n",
    "    for caracteristica in range(X.shape[1]):\n",
    "        valor, ent = melhorValor(X[:, caracteristica], y)\n",
    "        entropia.append(ent)\n",
    "        valores.append(valor)\n",
    "    entropia = np.array(entropia)\n",
    "    caracteristica = np.argmin(entropia)\n",
    "    return caracteristica, valores[caracteristica], entropia[caracteristica]"
   ]
  },
  {
   "cell_type": "code",
   "execution_count": 41,
   "metadata": {},
   "outputs": [
    {
     "name": "stdout",
     "output_type": "stream",
     "text": [
      "(0, 2.475, 0.20068666377598746)\n"
     ]
    }
   ],
   "source": [
    "print(melhorCaracteristica(X,y))"
   ]
  },
  {
   "cell_type": "code",
   "execution_count": 42,
   "metadata": {},
   "outputs": [
    {
     "data": {
      "text/plain": [
       "(0.9933333333333333,\n",
       " array([ True,  True,  True,  True,  True,  True,  True,  True,  True,\n",
       "         True,  True,  True,  True,  True,  True,  True,  True,  True,\n",
       "         True,  True,  True,  True,  True,  True,  True,  True,  True,\n",
       "         True,  True,  True,  True,  True,  True,  True,  True,  True,\n",
       "         True,  True,  True,  True,  True,  True,  True,  True,  True,\n",
       "         True,  True,  True,  True,  True,  True,  True,  True,  True,\n",
       "         True,  True,  True,  True,  True,  True,  True,  True,  True,\n",
       "         True,  True,  True,  True,  True,  True,  True, False,  True,\n",
       "         True,  True,  True,  True,  True,  True,  True,  True,  True,\n",
       "         True,  True,  True,  True,  True,  True,  True,  True,  True,\n",
       "         True,  True,  True,  True,  True,  True,  True,  True,  True,\n",
       "         True,  True,  True,  True,  True,  True,  True,  True,  True,\n",
       "         True,  True,  True,  True,  True,  True,  True,  True,  True,\n",
       "         True,  True,  True,  True,  True,  True,  True,  True,  True,\n",
       "         True,  True,  True,  True,  True,  True,  True,  True,  True,\n",
       "         True,  True,  True,  True,  True,  True,  True,  True,  True,\n",
       "         True,  True,  True,  True,  True,  True]))"
      ]
     },
     "execution_count": 42,
     "metadata": {},
     "output_type": "execute_result"
    }
   ],
   "source": [
    "def maisFrequente(y):\n",
    "    return Counter(y.flat).most_common(1)[0][0]\n",
    "\n",
    "class Arvore(BaseEstimator, ClassifierMixin):\n",
    "    def fit(self, X, y):\n",
    "        self.caracteristica, self.valor, self.ent = melhorCaracteristica(X, y)\n",
    "        maiores = X[:, self.caracteristica] > self.valor\n",
    "        if sum(maiores) > 0 and sum(~maiores) > 0:\n",
    "            self.maiores = Arvore()\n",
    "            self.maiores.fit(X[maiores, :], y[maiores])\n",
    "            self.menores = Arvore()\n",
    "            self.menores.fit(X[~maiores,:], y[~maiores])\n",
    "        else:\n",
    "            self.resposta = maisFrequente(y)\n",
    "    def predict(self, X):\n",
    "        y = np.empty((X.shape[0]))\n",
    "        if hasattr(self, 'resposta'):\n",
    "            y[:] = self.resposta\n",
    "        else:\n",
    "            maiores = X[:, self.caracteristica] > self.valor\n",
    "            y[maiores] = self.maiores.predict(X[maiores, :])\n",
    "            y[~maiores] = self.menores.predict(X[~maiores, :])\n",
    "        return y\n",
    "\n",
    "modelo = Arvore()\n",
    "modelo.fit(X,y)\n",
    "ypred = modelo.predict(X)\n",
    "accuracy_score(y, ypred), (ypred == y)"
   ]
  },
  {
   "cell_type": "code",
   "execution_count": 43,
   "metadata": {},
   "outputs": [],
   "source": [
    "def plotDecisao(modelo, X, y):\n",
    "        \n",
    "    modelo.fit(X, y)\n",
    "    x0s = np.linspace(np.min(X[:,0])-0.2, np.max(X[:,0])+0.2, 100)\n",
    "    x1s = np.linspace(np.min(X[:,1])-0.2, np.max(X[:,1])+0.2, 100)\n",
    "    x0, x1 = np.meshgrid(x0s, x1s)\n",
    "    Xdec = np.c_[x0.ravel(), x1.ravel()]\n",
    "    ypred = modelo.predict(Xdec)\n",
    "    plt.contourf(x0, x1, ypred.reshape(x0.shape), alpha=0.25)\n",
    "    for k in set(y):\n",
    "        plt.plot(X[:,0][y==k], X[:,1][y==k], 'o', label=f\"{iris.target_names[k]} [{k}]\")\n",
    "\n",
    "    plt.xlabel(f\"X[0]: {iris.feature_names[0]}\")\n",
    "    plt.ylabel(f\"X[1]: {iris.feature_names[1]}\")\n",
    "    plt.show()"
   ]
  },
  {
   "cell_type": "code",
   "execution_count": 44,
   "metadata": {},
   "outputs": [
    {
     "data": {
      "image/png": "[encoded data removed]",
      "text/plain": [
       "<Figure size 432x288 with 1 Axes>"
      ]
     },
     "metadata": {
      "needs_background": "light"
     },
     "output_type": "display_data"
    }
   ],
   "source": [
    "plotDecisao(Arvore(), X, y)"
   ]
  },
  {
   "cell_type": "code",
   "execution_count": 45,
   "metadata": {},
   "outputs": [
    {
     "data": {
      "text/plain": [
       "(array([0.96666667, 0.96666667, 0.9       , 0.93333333, 1.        ]),\n",
       " 0.9533333333333334)"
      ]
     },
     "execution_count": 45,
     "metadata": {},
     "output_type": "execute_result"
    }
   ],
   "source": [
    "scores = cross_validate(Arvore(), X, y)\n",
    "scores['test_score'], np.mean(scores['test_score'])"
   ]
  },
  {
   "cell_type": "markdown",
   "metadata": {},
   "source": [
    "# Comparando com o resultado obtido em aula"
   ]
  },
  {
   "cell_type": "code",
   "execution_count": 46,
   "metadata": {},
   "outputs": [],
   "source": [
    "def impureza(y): # Gini\n",
    "    labels = list(set(y))\n",
    "    labels.sort()\n",
    "    probabilidades = np.zeros((len(labels),))\n",
    "    for i, k in enumerate(labels):\n",
    "        probabilidades[i] = sum(y==k)/len(y)\n",
    "    resultado = 1 - sum(probabilidades**2) # resultados acima de 0 indicam algum grau de impureza\n",
    "    return resultado\n",
    "\n",
    "def impurezaValor(x, y, valor): #função custo que o algoritmo tenta minimizar\n",
    "    maiores = x>valor\n",
    "    impurezasMaiores = impureza(y[maiores])\n",
    "    propMaiores = sum(maiores)/len(y)\n",
    "    impurezasMenores = impureza(y[~maiores])\n",
    "    propMenores = sum(~maiores)/len(y)\n",
    "    impurezaTotal = propMaiores*impurezasMaiores + propMenores*impurezasMenores\n",
    "    return impurezaTotal, impurezasMaiores, impurezasMenores\n",
    "\n",
    "def melhorValor_imp(x, y):\n",
    "    result = None\n",
    "    menorImpureza = float('inf')\n",
    "    xmax = np.max(x)\n",
    "    xmin = np.min(x)\n",
    "    while True:\n",
    "        valor = (xmin+xmax)/2\n",
    "        impTotal, impMaiores, impMenores = impurezaValor(x, y, valor)\n",
    "        if impTotal < menorImpureza:\n",
    "            menorImpureza = impTotal\n",
    "            result = valor\n",
    "            if impMaiores == 0 or impMenores == 0:\n",
    "                break\n",
    "            if impMaiores < impMenores:\n",
    "                xmin = valor\n",
    "            else:\n",
    "                xmax = valor\n",
    "        else:\n",
    "            break\n",
    "    return result, menorImpureza\n",
    "\n",
    "def melhorCaracteristica_imp(X, y):\n",
    "    impurezas = []\n",
    "    valores = []\n",
    "    for caracteristica in range(X.shape[1]):\n",
    "        valor, imp = melhorValor_imp(X[:, caracteristica], y)\n",
    "        impurezas.append(imp)\n",
    "        valores.append(valor)\n",
    "    impurezas = np.array(impurezas)\n",
    "    caracteristica = np.argmin(impurezas)\n",
    "    return caracteristica, valores[caracteristica], impurezas[caracteristica]\n",
    "\n",
    "\n",
    "class Arvore_aula(BaseEstimator, ClassifierMixin):\n",
    "    def fit(self, X, y):\n",
    "        self.caracteristica, self.valor, self.imp = melhorCaracteristica_imp(X, y)\n",
    "        maiores = X[:, self.caracteristica] > self.valor\n",
    "        if sum(maiores) > 0 and sum(~maiores) > 0:\n",
    "            self.maiores = Arvore()\n",
    "            self.maiores.fit(X[maiores, :], y[maiores])\n",
    "            self.menores = Arvore()\n",
    "            self.menores.fit(X[~maiores,:], y[~maiores])\n",
    "        else:\n",
    "            self.resposta = maisFrequente(y)\n",
    "    def predict(self, X):\n",
    "        y = np.empty((X.shape[0]))\n",
    "        if hasattr(self, 'resposta'):\n",
    "            y[:] = self.resposta\n",
    "        else:\n",
    "            maiores = X[:, self.caracteristica] > self.valor\n",
    "            y[maiores] = self.maiores.predict(X[maiores, :])\n",
    "            y[~maiores] = self.menores.predict(X[~maiores, :])\n",
    "        return y"
   ]
  },
  {
   "cell_type": "code",
   "execution_count": 49,
   "metadata": {},
   "outputs": [
    {
     "data": {
      "image/png": "[encoded data removed]",
      "text/plain": [
       "<Figure size 432x288 with 1 Axes>"
      ]
     },
     "metadata": {
      "needs_background": "light"
     },
     "output_type": "display_data"
    }
   ],
   "source": [
    "plotDecisao(Arvore_aula(), X, y)"
   ]
  },
  {
   "cell_type": "markdown",
   "metadata": {},
   "source": [
    "# Comparando com o a implementação da Árvore de Decisão do scikit learn"
   ]
  },
  {
   "cell_type": "code",
   "execution_count": 50,
   "metadata": {},
   "outputs": [
    {
     "data": {
      "image/png": "[encoded data removed]",
      "text/plain": [
       "<Figure size 432x288 with 1 Axes>"
      ]
     },
     "metadata": {
      "needs_background": "light"
     },
     "output_type": "display_data"
    }
   ],
   "source": [
    "from sklearn.tree import DecisionTreeClassifier\n",
    "plotDecisao(DecisionTreeClassifier(), X, y)"
   ]
  },
  {
   "cell_type": "markdown",
   "metadata": {},
   "source": [
    "# Comparação usando validação cruzada com 3 bases de classificação com atributos contínuos"
   ]
  },
  {
   "cell_type": "markdown",
   "metadata": {},
   "source": [
    "### Dataset Haberman's Survival"
   ]
  },
  {
   "cell_type": "code",
   "execution_count": 58,
   "metadata": {},
   "outputs": [
    {
     "data": {
      "text/plain": [
       "('haberman.data', <http.client.HTTPMessage at 0x1cf36350100>)"
      ]
     },
     "execution_count": 58,
     "metadata": {},
     "output_type": "execute_result"
    }
   ],
   "source": [
    "import urllib.request\n",
    "url = 'https://archive.ics.uci.edu/ml/machine-learning-databases/haberman/haberman.data'\n",
    "urllib.request.urlretrieve(url, 'haberman.data')"
   ]
  },
  {
   "cell_type": "code",
   "execution_count": 63,
   "metadata": {},
   "outputs": [
    {
     "data": {
      "text/plain": [
       "((306, 3), (306,))"
      ]
     },
     "execution_count": 63,
     "metadata": {},
     "output_type": "execute_result"
    }
   ],
   "source": [
    "data_haberman = np.loadtxt('haberman.data', dtype='str', delimiter=',')\n",
    "X_1, y_1 = data_haberman[:,:-1], data_haberman[:, -1]\n",
    "X_1.shape, y_1.shape"
   ]
  },
  {
   "cell_type": "code",
   "execution_count": 96,
   "metadata": {},
   "outputs": [],
   "source": [
    "X_1 = X_1.astype(int)\n",
    "y_1 = y_1.astype(int)"
   ]
  },
  {
   "cell_type": "code",
   "execution_count": 97,
   "metadata": {},
   "outputs": [
    {
     "data": {
      "text/plain": [
       "(array([0.72580645, 0.49180328, 0.62295082, 0.63934426, 0.55737705]),\n",
       " 0.6074563722897939)"
      ]
     },
     "execution_count": 97,
     "metadata": {},
     "output_type": "execute_result"
    }
   ],
   "source": [
    "scores = cross_validate(Arvore(), X_1, y_1)\n",
    "scores['test_score'], np.mean(scores['test_score'])"
   ]
  },
  {
   "cell_type": "code",
   "execution_count": 128,
   "metadata": {},
   "outputs": [
    {
     "data": {
      "text/plain": [
       "(array([0.72580645, 0.49180328, 0.62295082, 0.63934426, 0.55737705]),\n",
       " 0.6074563722897939)"
      ]
     },
     "execution_count": 128,
     "metadata": {},
     "output_type": "execute_result"
    }
   ],
   "source": [
    "scores_aula = cross_validate(Arvore_aula(), X_1, y_1)\n",
    "scores_aula['test_score'], np.mean(scores_aula['test_score'])"
   ]
  },
  {
   "cell_type": "code",
   "execution_count": 131,
   "metadata": {},
   "outputs": [
    {
     "data": {
      "text/plain": [
       "(array([0.72580645, 0.67213115, 0.73770492, 0.72131148, 0.72131148]),\n",
       " 0.7156530936012692)"
      ]
     },
     "execution_count": 131,
     "metadata": {},
     "output_type": "execute_result"
    }
   ],
   "source": [
    "scores_sklearn = cross_validate(DecisionTreeClassifier(max_depth=3), X_1, y_1)\n",
    "scores_sklearn['test_score'], np.mean(scores_sklearn['test_score'])"
   ]
  },
  {
   "cell_type": "markdown",
   "metadata": {},
   "source": [
    "### Dataset Exasens"
   ]
  },
  {
   "cell_type": "code",
   "execution_count": 116,
   "metadata": {},
   "outputs": [
    {
     "data": {
      "text/plain": [
       "('exasens.csv', <http.client.HTTPMessage at 0x1cf362f7e50>)"
      ]
     },
     "execution_count": 116,
     "metadata": {},
     "output_type": "execute_result"
    }
   ],
   "source": [
    "url = 'https://archive.ics.uci.edu/ml/machine-learning-databases/00523/Exasens.csv'\n",
    "urllib.request.urlretrieve(url, 'exasens.csv')"
   ]
  },
  {
   "cell_type": "code",
   "execution_count": 117,
   "metadata": {},
   "outputs": [],
   "source": [
    "import pandas as pd\n",
    "df = pd.read_csv('exasens.csv')"
   ]
  },
  {
   "cell_type": "code",
   "execution_count": 118,
   "metadata": {},
   "outputs": [
    {
     "data": {
      "text/html": [
       "<div>\n",
       "<style scoped>\n",
       "    .dataframe tbody tr th:only-of-type {\n",
       "        vertical-align: middle;\n",
       "    }\n",
       "\n",
       "    .dataframe tbody tr th {\n",
       "        vertical-align: top;\n",
       "    }\n",
       "\n",
       "    .dataframe thead th {\n",
       "        text-align: right;\n",
       "    }\n",
       "</style>\n",
       "<table border=\"1\" class=\"dataframe\">\n",
       "  <thead>\n",
       "    <tr style=\"text-align: right;\">\n",
       "      <th></th>\n",
       "      <th>Diagnosis</th>\n",
       "      <th>ID</th>\n",
       "      <th>Imaginary Part</th>\n",
       "      <th>Unnamed: 3</th>\n",
       "      <th>Real Part</th>\n",
       "      <th>Unnamed: 5</th>\n",
       "      <th>Gender</th>\n",
       "      <th>Age</th>\n",
       "      <th>Smoking</th>\n",
       "      <th>Unnamed: 9</th>\n",
       "      <th>Unnamed: 10</th>\n",
       "      <th>Unnamed: 11</th>\n",
       "      <th>Unnamed: 12</th>\n",
       "    </tr>\n",
       "  </thead>\n",
       "  <tbody>\n",
       "    <tr>\n",
       "      <th>0</th>\n",
       "      <td>NaN</td>\n",
       "      <td>NaN</td>\n",
       "      <td>NaN</td>\n",
       "      <td>NaN</td>\n",
       "      <td>NaN</td>\n",
       "      <td>NaN</td>\n",
       "      <td>NaN</td>\n",
       "      <td>NaN</td>\n",
       "      <td>NaN</td>\n",
       "      <td>NaN</td>\n",
       "      <td>NaN</td>\n",
       "      <td>NaN</td>\n",
       "      <td>NaN</td>\n",
       "    </tr>\n",
       "    <tr>\n",
       "      <th>1</th>\n",
       "      <td>NaN</td>\n",
       "      <td>NaN</td>\n",
       "      <td>Min</td>\n",
       "      <td>Avg.</td>\n",
       "      <td>Min</td>\n",
       "      <td>Avg.</td>\n",
       "      <td>NaN</td>\n",
       "      <td>NaN</td>\n",
       "      <td>NaN</td>\n",
       "      <td>NaN</td>\n",
       "      <td>NaN</td>\n",
       "      <td>Gender</td>\n",
       "      <td>Somking</td>\n",
       "    </tr>\n",
       "    <tr>\n",
       "      <th>2</th>\n",
       "      <td>COPD</td>\n",
       "      <td>301-4</td>\n",
       "      <td>-320.61</td>\n",
       "      <td>-300.5635307</td>\n",
       "      <td>-495.26</td>\n",
       "      <td>-464.1719907</td>\n",
       "      <td>1.0</td>\n",
       "      <td>77.0</td>\n",
       "      <td>2.0</td>\n",
       "      <td>NaN</td>\n",
       "      <td>NaN</td>\n",
       "      <td>Male=1</td>\n",
       "      <td>Non-smoker=1</td>\n",
       "    </tr>\n",
       "    <tr>\n",
       "      <th>3</th>\n",
       "      <td>COPD</td>\n",
       "      <td>302-3</td>\n",
       "      <td>-325.39</td>\n",
       "      <td>-314.7503595</td>\n",
       "      <td>-473.73</td>\n",
       "      <td>-469.2631404</td>\n",
       "      <td>0.0</td>\n",
       "      <td>72.0</td>\n",
       "      <td>2.0</td>\n",
       "      <td>NaN</td>\n",
       "      <td>NaN</td>\n",
       "      <td>Female=0</td>\n",
       "      <td>Ex-smoker=2</td>\n",
       "    </tr>\n",
       "    <tr>\n",
       "      <th>4</th>\n",
       "      <td>COPD</td>\n",
       "      <td>303-3</td>\n",
       "      <td>-323</td>\n",
       "      <td>-317.4360556</td>\n",
       "      <td>-476.12</td>\n",
       "      <td>-471.8976667</td>\n",
       "      <td>1.0</td>\n",
       "      <td>73.0</td>\n",
       "      <td>3.0</td>\n",
       "      <td>NaN</td>\n",
       "      <td>NaN</td>\n",
       "      <td>NaN</td>\n",
       "      <td>Active-smoker=3</td>\n",
       "    </tr>\n",
       "    <tr>\n",
       "      <th>5</th>\n",
       "      <td>COPD</td>\n",
       "      <td>304-4</td>\n",
       "      <td>-327.78</td>\n",
       "      <td>-317.3996698</td>\n",
       "      <td>-473.73</td>\n",
       "      <td>-468.856388</td>\n",
       "      <td>1.0</td>\n",
       "      <td>76.0</td>\n",
       "      <td>2.0</td>\n",
       "      <td>NaN</td>\n",
       "      <td>NaN</td>\n",
       "      <td>NaN</td>\n",
       "      <td>NaN</td>\n",
       "    </tr>\n",
       "    <tr>\n",
       "      <th>6</th>\n",
       "      <td>COPD</td>\n",
       "      <td>305-4</td>\n",
       "      <td>-325.39</td>\n",
       "      <td>-316.1557853</td>\n",
       "      <td>-478.52</td>\n",
       "      <td>-472.8697828</td>\n",
       "      <td>0.0</td>\n",
       "      <td>65.0</td>\n",
       "      <td>2.0</td>\n",
       "      <td>NaN</td>\n",
       "      <td>NaN</td>\n",
       "      <td>NaN</td>\n",
       "      <td>NaN</td>\n",
       "    </tr>\n",
       "    <tr>\n",
       "      <th>7</th>\n",
       "      <td>COPD</td>\n",
       "      <td>306-3</td>\n",
       "      <td>-327.78</td>\n",
       "      <td>-318.6775535</td>\n",
       "      <td>-507.23</td>\n",
       "      <td>-469.0241943</td>\n",
       "      <td>1.0</td>\n",
       "      <td>60.0</td>\n",
       "      <td>2.0</td>\n",
       "      <td>NaN</td>\n",
       "      <td>NaN</td>\n",
       "      <td>NaN</td>\n",
       "      <td>NaN</td>\n",
       "    </tr>\n",
       "    <tr>\n",
       "      <th>8</th>\n",
       "      <td>COPD</td>\n",
       "      <td>307-3</td>\n",
       "      <td>-330.18</td>\n",
       "      <td>-320.6174777</td>\n",
       "      <td>-473.73</td>\n",
       "      <td>-467.3618538</td>\n",
       "      <td>1.0</td>\n",
       "      <td>76.0</td>\n",
       "      <td>2.0</td>\n",
       "      <td>NaN</td>\n",
       "      <td>NaN</td>\n",
       "      <td>NaN</td>\n",
       "      <td>NaN</td>\n",
       "    </tr>\n",
       "    <tr>\n",
       "      <th>9</th>\n",
       "      <td>COPD</td>\n",
       "      <td>308</td>\n",
       "      <td>NaN</td>\n",
       "      <td>NaN</td>\n",
       "      <td>NaN</td>\n",
       "      <td>NaN</td>\n",
       "      <td>1.0</td>\n",
       "      <td>77.0</td>\n",
       "      <td>2.0</td>\n",
       "      <td>NaN</td>\n",
       "      <td>NaN</td>\n",
       "      <td>NaN</td>\n",
       "      <td>NaN</td>\n",
       "    </tr>\n",
       "  </tbody>\n",
       "</table>\n",
       "</div>"
      ],
      "text/plain": [
       "  Diagnosis     ID Imaginary Part    Unnamed: 3 Real Part    Unnamed: 5  \\\n",
       "0       NaN    NaN            NaN           NaN       NaN           NaN   \n",
       "1       NaN    NaN           Min          Avg.       Min          Avg.    \n",
       "2      COPD  301-4        -320.61  -300.5635307   -495.26  -464.1719907   \n",
       "3      COPD  302-3        -325.39  -314.7503595   -473.73  -469.2631404   \n",
       "4      COPD  303-3           -323  -317.4360556   -476.12  -471.8976667   \n",
       "5      COPD  304-4        -327.78  -317.3996698   -473.73   -468.856388   \n",
       "6      COPD  305-4        -325.39  -316.1557853   -478.52  -472.8697828   \n",
       "7      COPD  306-3        -327.78  -318.6775535   -507.23  -469.0241943   \n",
       "8      COPD  307-3        -330.18  -320.6174777   -473.73  -467.3618538   \n",
       "9      COPD    308            NaN           NaN       NaN           NaN   \n",
       "\n",
       "   Gender   Age  Smoking  Unnamed: 9  Unnamed: 10 Unnamed: 11      Unnamed: 12  \n",
       "0     NaN   NaN      NaN         NaN          NaN         NaN              NaN  \n",
       "1     NaN   NaN      NaN         NaN          NaN     Gender           Somking  \n",
       "2     1.0  77.0      2.0         NaN          NaN      Male=1     Non-smoker=1  \n",
       "3     0.0  72.0      2.0         NaN          NaN    Female=0      Ex-smoker=2  \n",
       "4     1.0  73.0      3.0         NaN          NaN         NaN  Active-smoker=3  \n",
       "5     1.0  76.0      2.0         NaN          NaN         NaN              NaN  \n",
       "6     0.0  65.0      2.0         NaN          NaN         NaN              NaN  \n",
       "7     1.0  60.0      2.0         NaN          NaN         NaN              NaN  \n",
       "8     1.0  76.0      2.0         NaN          NaN         NaN              NaN  \n",
       "9     1.0  77.0      2.0         NaN          NaN         NaN              NaN  "
      ]
     },
     "execution_count": 118,
     "metadata": {},
     "output_type": "execute_result"
    }
   ],
   "source": [
    "df.head(10)"
   ]
  },
  {
   "cell_type": "code",
   "execution_count": 119,
   "metadata": {},
   "outputs": [],
   "source": [
    "df.dropna(subset=['Diagnosis', 'Real Part'], inplace=True) # dando drop nas linhas faltantes"
   ]
  },
  {
   "cell_type": "code",
   "execution_count": 120,
   "metadata": {},
   "outputs": [
    {
     "data": {
      "text/html": [
       "<div>\n",
       "<style scoped>\n",
       "    .dataframe tbody tr th:only-of-type {\n",
       "        vertical-align: middle;\n",
       "    }\n",
       "\n",
       "    .dataframe tbody tr th {\n",
       "        vertical-align: top;\n",
       "    }\n",
       "\n",
       "    .dataframe thead th {\n",
       "        text-align: right;\n",
       "    }\n",
       "</style>\n",
       "<table border=\"1\" class=\"dataframe\">\n",
       "  <thead>\n",
       "    <tr style=\"text-align: right;\">\n",
       "      <th></th>\n",
       "      <th>Diagnosis</th>\n",
       "      <th>ID</th>\n",
       "      <th>Imaginary Part</th>\n",
       "      <th>Unnamed: 3</th>\n",
       "      <th>Real Part</th>\n",
       "      <th>Unnamed: 5</th>\n",
       "      <th>Gender</th>\n",
       "      <th>Age</th>\n",
       "      <th>Smoking</th>\n",
       "      <th>Unnamed: 9</th>\n",
       "      <th>Unnamed: 10</th>\n",
       "      <th>Unnamed: 11</th>\n",
       "      <th>Unnamed: 12</th>\n",
       "    </tr>\n",
       "  </thead>\n",
       "  <tbody>\n",
       "    <tr>\n",
       "      <th>2</th>\n",
       "      <td>COPD</td>\n",
       "      <td>301-4</td>\n",
       "      <td>-320.61</td>\n",
       "      <td>-300.5635307</td>\n",
       "      <td>-495.26</td>\n",
       "      <td>-464.1719907</td>\n",
       "      <td>1.0</td>\n",
       "      <td>77.0</td>\n",
       "      <td>2.0</td>\n",
       "      <td>NaN</td>\n",
       "      <td>NaN</td>\n",
       "      <td>Male=1</td>\n",
       "      <td>Non-smoker=1</td>\n",
       "    </tr>\n",
       "    <tr>\n",
       "      <th>3</th>\n",
       "      <td>COPD</td>\n",
       "      <td>302-3</td>\n",
       "      <td>-325.39</td>\n",
       "      <td>-314.7503595</td>\n",
       "      <td>-473.73</td>\n",
       "      <td>-469.2631404</td>\n",
       "      <td>0.0</td>\n",
       "      <td>72.0</td>\n",
       "      <td>2.0</td>\n",
       "      <td>NaN</td>\n",
       "      <td>NaN</td>\n",
       "      <td>Female=0</td>\n",
       "      <td>Ex-smoker=2</td>\n",
       "    </tr>\n",
       "    <tr>\n",
       "      <th>4</th>\n",
       "      <td>COPD</td>\n",
       "      <td>303-3</td>\n",
       "      <td>-323</td>\n",
       "      <td>-317.4360556</td>\n",
       "      <td>-476.12</td>\n",
       "      <td>-471.8976667</td>\n",
       "      <td>1.0</td>\n",
       "      <td>73.0</td>\n",
       "      <td>3.0</td>\n",
       "      <td>NaN</td>\n",
       "      <td>NaN</td>\n",
       "      <td>NaN</td>\n",
       "      <td>Active-smoker=3</td>\n",
       "    </tr>\n",
       "    <tr>\n",
       "      <th>5</th>\n",
       "      <td>COPD</td>\n",
       "      <td>304-4</td>\n",
       "      <td>-327.78</td>\n",
       "      <td>-317.3996698</td>\n",
       "      <td>-473.73</td>\n",
       "      <td>-468.856388</td>\n",
       "      <td>1.0</td>\n",
       "      <td>76.0</td>\n",
       "      <td>2.0</td>\n",
       "      <td>NaN</td>\n",
       "      <td>NaN</td>\n",
       "      <td>NaN</td>\n",
       "      <td>NaN</td>\n",
       "    </tr>\n",
       "    <tr>\n",
       "      <th>6</th>\n",
       "      <td>COPD</td>\n",
       "      <td>305-4</td>\n",
       "      <td>-325.39</td>\n",
       "      <td>-316.1557853</td>\n",
       "      <td>-478.52</td>\n",
       "      <td>-472.8697828</td>\n",
       "      <td>0.0</td>\n",
       "      <td>65.0</td>\n",
       "      <td>2.0</td>\n",
       "      <td>NaN</td>\n",
       "      <td>NaN</td>\n",
       "      <td>NaN</td>\n",
       "      <td>NaN</td>\n",
       "    </tr>\n",
       "  </tbody>\n",
       "</table>\n",
       "</div>"
      ],
      "text/plain": [
       "  Diagnosis     ID Imaginary Part    Unnamed: 3 Real Part    Unnamed: 5  \\\n",
       "2      COPD  301-4        -320.61  -300.5635307   -495.26  -464.1719907   \n",
       "3      COPD  302-3        -325.39  -314.7503595   -473.73  -469.2631404   \n",
       "4      COPD  303-3           -323  -317.4360556   -476.12  -471.8976667   \n",
       "5      COPD  304-4        -327.78  -317.3996698   -473.73   -468.856388   \n",
       "6      COPD  305-4        -325.39  -316.1557853   -478.52  -472.8697828   \n",
       "\n",
       "   Gender   Age  Smoking  Unnamed: 9  Unnamed: 10 Unnamed: 11      Unnamed: 12  \n",
       "2     1.0  77.0      2.0         NaN          NaN      Male=1     Non-smoker=1  \n",
       "3     0.0  72.0      2.0         NaN          NaN    Female=0      Ex-smoker=2  \n",
       "4     1.0  73.0      3.0         NaN          NaN         NaN  Active-smoker=3  \n",
       "5     1.0  76.0      2.0         NaN          NaN         NaN              NaN  \n",
       "6     0.0  65.0      2.0         NaN          NaN         NaN              NaN  "
      ]
     },
     "execution_count": 120,
     "metadata": {},
     "output_type": "execute_result"
    }
   ],
   "source": [
    "df.head()"
   ]
  },
  {
   "cell_type": "code",
   "execution_count": null,
   "metadata": {},
   "outputs": [],
   "source": [
    "df.Diagnosis = df.Diagnosis.astype('category')\n",
    "df['categorias'] = df.Diagnosis.cat.codes\n",
    "df.head()"
   ]
  },
  {
   "cell_type": "code",
   "execution_count": 123,
   "metadata": {},
   "outputs": [],
   "source": [
    "X_2 = df[['Imaginary Part', 'Unnamed: 3', 'Real Part', 'Unnamed: 5', 'Gender', 'Age', 'Smoking']]\n",
    "y_2 = df.categorias\n",
    "\n",
    "X_2 = np.array(X_2).astype(float)\n",
    "y_2 = np.array(y_2).astype(int)"
   ]
  },
  {
   "cell_type": "code",
   "execution_count": 124,
   "metadata": {},
   "outputs": [
    {
     "data": {
      "text/plain": [
       "((100, 7), (100,))"
      ]
     },
     "execution_count": 124,
     "metadata": {},
     "output_type": "execute_result"
    }
   ],
   "source": [
    "X_2.shape, y_2.shape"
   ]
  },
  {
   "cell_type": "code",
   "execution_count": 132,
   "metadata": {},
   "outputs": [
    {
     "data": {
      "text/plain": [
       "(array([0.5 , 0.75, 0.7 , 0.55, 0.75]), 0.65)"
      ]
     },
     "execution_count": 132,
     "metadata": {},
     "output_type": "execute_result"
    }
   ],
   "source": [
    "scores2 = cross_validate(Arvore(), X_2, y_2)\n",
    "scores2['test_score'], np.mean(scores2['test_score'])"
   ]
  },
  {
   "cell_type": "code",
   "execution_count": 133,
   "metadata": {},
   "outputs": [
    {
     "data": {
      "text/plain": [
       "(array([0.5 , 0.7 , 0.7 , 0.55, 0.75]), 0.64)"
      ]
     },
     "execution_count": 133,
     "metadata": {},
     "output_type": "execute_result"
    }
   ],
   "source": [
    "scores_aula2 = cross_validate(Arvore_aula(), X_2, y_2)\n",
    "scores_aula2['test_score'], np.mean(scores_aula2['test_score'])"
   ]
  },
  {
   "cell_type": "code",
   "execution_count": 134,
   "metadata": {},
   "outputs": [
    {
     "data": {
      "text/plain": [
       "(array([0.45, 0.6 , 0.85, 0.7 , 0.8 ]), 0.6799999999999999)"
      ]
     },
     "execution_count": 134,
     "metadata": {},
     "output_type": "execute_result"
    }
   ],
   "source": [
    "scores_sklearn2 = cross_validate(DecisionTreeClassifier(), X_2, y_2)\n",
    "scores_sklearn2['test_score'], np.mean(scores_sklearn2['test_score'])"
   ]
  },
  {
   "cell_type": "markdown",
   "metadata": {},
   "source": [
    "### Blood Transfusion Service Center Data Set"
   ]
  },
  {
   "cell_type": "code",
   "execution_count": 135,
   "metadata": {},
   "outputs": [
    {
     "data": {
      "text/plain": [
       "('blood_transfusion.data', <http.client.HTTPMessage at 0x1cf36350d30>)"
      ]
     },
     "execution_count": 135,
     "metadata": {},
     "output_type": "execute_result"
    }
   ],
   "source": [
    "url = 'https://archive.ics.uci.edu/ml/machine-learning-databases/blood-transfusion/transfusion.data'\n",
    "urllib.request.urlretrieve(url, 'blood_transfusion.data')"
   ]
  },
  {
   "cell_type": "code",
   "execution_count": 141,
   "metadata": {},
   "outputs": [
    {
     "data": {
      "text/plain": [
       "((748, 4), (748,))"
      ]
     },
     "execution_count": 141,
     "metadata": {},
     "output_type": "execute_result"
    }
   ],
   "source": [
    "data_blood_transfusion = np.loadtxt('blood_transfusion.data', dtype='str', delimiter=',', skiprows=1)\n",
    "X_3, y_3 = data_blood_transfusion[:,:-1], data_blood_transfusion[:, -1]\n",
    "X_3.shape, y_3.shape"
   ]
  },
  {
   "cell_type": "code",
   "execution_count": 145,
   "metadata": {},
   "outputs": [],
   "source": [
    "X_3 = X_3.astype(int)\n",
    "y_3 = y_3.astype(int)"
   ]
  },
  {
   "cell_type": "code",
   "execution_count": 146,
   "metadata": {},
   "outputs": [
    {
     "data": {
      "text/plain": [
       "(array([0.47333333, 0.63333333, 0.66666667, 0.75167785, 0.73154362]),\n",
       " 0.6513109619686801)"
      ]
     },
     "execution_count": 146,
     "metadata": {},
     "output_type": "execute_result"
    }
   ],
   "source": [
    "scores3 = cross_validate(Arvore(), X_3, y_3)\n",
    "scores3['test_score'], np.mean(scores3['test_score'])"
   ]
  },
  {
   "cell_type": "code",
   "execution_count": 147,
   "metadata": {},
   "outputs": [
    {
     "data": {
      "text/plain": [
       "(array([0.48      , 0.63333333, 0.66666667, 0.75167785, 0.73154362]),\n",
       " 0.6526442953020134)"
      ]
     },
     "execution_count": 147,
     "metadata": {},
     "output_type": "execute_result"
    }
   ],
   "source": [
    "scores_aula3 = cross_validate(Arvore_aula(), X_3, y_3)\n",
    "scores_aula3['test_score'], np.mean(scores_aula3['test_score'])"
   ]
  },
  {
   "cell_type": "code",
   "execution_count": 149,
   "metadata": {},
   "outputs": [
    {
     "data": {
      "text/plain": [
       "(array([0.68      , 0.84666667, 0.78666667, 0.74496644, 0.81208054]),\n",
       " 0.7740760626398211)"
      ]
     },
     "execution_count": 149,
     "metadata": {},
     "output_type": "execute_result"
    }
   ],
   "source": [
    "scores_sklearn3 = cross_validate(DecisionTreeClassifier(max_depth=3), X_3, y_3)\n",
    "scores_sklearn3['test_score'], np.mean(scores_sklearn3['test_score'])"
   ]
  },
  {
   "cell_type": "markdown",
   "metadata": {},
   "source": [
    "Neste exercício, fiz a heurística de escolha para a melhor característica utilizando a entropia como medida de impureza. Na aula, o professor utilizou a impureza Gini. Elas são calculadas de maneira diferente, mas em geral apresentam resultados bem próximos. De fato, Na comparação dos plots das regiões de decisão usando a base iris, ambos ficaram iguais. A diferença surgiu quando foi feita a avaliação das outras 3 bases de classificação com atributos contínuos, mas mesmo assim a diferença não foi tão grande e os scores obtidos pelas duas heurísticas ficaram bem próximos.\n",
    "\n",
    "No caso da comparação com a implementação disponível no scikit learn, a diferença ficou mais evidente. Primeiro, o plot obtido pelo modelo do scikit apresentou regiões diferentes dos outros dois modelos. Além disso, os scores obtidos nas bases testadas foram maiores para o modelo do scikit learn."
   ]
  },
  {
   "cell_type": "markdown",
   "metadata": {},
   "source": []
  }
 ],
 "metadata": {
  "interpreter": {
   "hash": "02319eaa1067495d54db6d0a82a720f2ad871ac4543ee1d473cf139b55287a64"
  },
  "kernelspec": {
   "display_name": "Python 3.8.8 64-bit ('base': conda)",
   "language": "python",
   "name": "python3"
  },
  "language_info": {
   "codemirror_mode": {
    "name": "ipython",
    "version": 3
   },
   "file_extension": ".py",
   "mimetype": "text/x-python",
   "name": "python",
   "nbconvert_exporter": "python",
   "pygments_lexer": "ipython3",
   "version": "3.8.8"
  },
  "orig_nbformat": 4
 },
 "nbformat": 4,
 "nbformat_minor": 2
}
