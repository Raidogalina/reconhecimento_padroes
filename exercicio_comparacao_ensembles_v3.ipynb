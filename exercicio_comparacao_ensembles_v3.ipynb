{
 "cells": [
  {
   "cell_type": "markdown",
   "metadata": {},
   "source": [
    "# Comparação de Ensembles"
   ]
  },
  {
   "cell_type": "code",
   "execution_count": 1,
   "metadata": {},
   "outputs": [
    {
     "name": "stdout",
     "output_type": "stream",
     "text": [
      "No Warning Shown\n"
     ]
    }
   ],
   "source": [
    "import warnings\n",
    "warnings.filterwarnings('ignore')\n",
    "warnings.warn('DelftStack')\n",
    "warnings.warn('Do not show this message')\n",
    "print(\"No Warning Shown\")"
   ]
  },
  {
   "cell_type": "code",
   "execution_count": 2,
   "metadata": {},
   "outputs": [],
   "source": [
    "from sklearn.neighbors import KNeighborsClassifier\n",
    "from sklearn.naive_bayes import GaussianNB\n",
    "from sklearn.linear_model import Perceptron\n",
    "from sklearn.linear_model import LogisticRegression\n",
    "from sklearn.svm import SVC"
   ]
  },
  {
   "cell_type": "code",
   "execution_count": 3,
   "metadata": {},
   "outputs": [
    {
     "data": {
      "text/html": [
       "<div>\n",
       "<style scoped>\n",
       "    .dataframe tbody tr th:only-of-type {\n",
       "        vertical-align: middle;\n",
       "    }\n",
       "\n",
       "    .dataframe tbody tr th {\n",
       "        vertical-align: top;\n",
       "    }\n",
       "\n",
       "    .dataframe thead th {\n",
       "        text-align: right;\n",
       "    }\n",
       "</style>\n",
       "<table border=\"1\" class=\"dataframe\">\n",
       "  <thead>\n",
       "    <tr style=\"text-align: right;\">\n",
       "      <th></th>\n",
       "      <th>Node</th>\n",
       "      <th>Utilised Bandwith Rate</th>\n",
       "      <th>Packet Drop Rate</th>\n",
       "      <th>Full_Bandwidth</th>\n",
       "      <th>Average_Delay_Time_Per_Sec</th>\n",
       "      <th>Percentage_Of_Lost_Pcaket_Rate</th>\n",
       "      <th>Percentage_Of_Lost_Byte_Rate</th>\n",
       "      <th>Packet Received  Rate</th>\n",
       "      <th>of Used_Bandwidth</th>\n",
       "      <th>Lost_Bandwidth</th>\n",
       "      <th>...</th>\n",
       "      <th>Packet_Received</th>\n",
       "      <th>Packet_lost</th>\n",
       "      <th>Transmitted_Byte</th>\n",
       "      <th>Received_Byte</th>\n",
       "      <th>10-Run-AVG-Drop-Rate</th>\n",
       "      <th>10-Run-AVG-Bandwith-Use</th>\n",
       "      <th>10-Run-Delay</th>\n",
       "      <th>Node Status</th>\n",
       "      <th>Flood Status</th>\n",
       "      <th>Class</th>\n",
       "    </tr>\n",
       "  </thead>\n",
       "  <tbody>\n",
       "    <tr>\n",
       "      <th>0</th>\n",
       "      <td>3.0</td>\n",
       "      <td>0.822038</td>\n",
       "      <td>0.190381</td>\n",
       "      <td>1000.0</td>\n",
       "      <td>0.004815</td>\n",
       "      <td>19.031487</td>\n",
       "      <td>19.038129</td>\n",
       "      <td>0.809619</td>\n",
       "      <td>822.03750</td>\n",
       "      <td>177.96250</td>\n",
       "      <td>...</td>\n",
       "      <td>73128.0</td>\n",
       "      <td>17196.0</td>\n",
       "      <td>130066560.0</td>\n",
       "      <td>105304320.0</td>\n",
       "      <td>0.146594</td>\n",
       "      <td>0.780936</td>\n",
       "      <td>0.001838</td>\n",
       "      <td>b'B'</td>\n",
       "      <td>0.023455</td>\n",
       "      <td>b'NB-No Block'</td>\n",
       "    </tr>\n",
       "    <tr>\n",
       "      <th>1</th>\n",
       "      <td>9.0</td>\n",
       "      <td>0.275513</td>\n",
       "      <td>0.729111</td>\n",
       "      <td>100.0</td>\n",
       "      <td>0.004815</td>\n",
       "      <td>72.889036</td>\n",
       "      <td>72.911141</td>\n",
       "      <td>0.270889</td>\n",
       "      <td>27.55125</td>\n",
       "      <td>72.44875</td>\n",
       "      <td>...</td>\n",
       "      <td>2451.0</td>\n",
       "      <td>6598.0</td>\n",
       "      <td>13029120.0</td>\n",
       "      <td>3529440.0</td>\n",
       "      <td>0.517669</td>\n",
       "      <td>0.242451</td>\n",
       "      <td>0.002236</td>\n",
       "      <td>b'NB'</td>\n",
       "      <td>0.460725</td>\n",
       "      <td>b'Block'</td>\n",
       "    </tr>\n",
       "    <tr>\n",
       "      <th>2</th>\n",
       "      <td>3.0</td>\n",
       "      <td>0.923707</td>\n",
       "      <td>0.090383</td>\n",
       "      <td>900.0</td>\n",
       "      <td>0.000633</td>\n",
       "      <td>9.035834</td>\n",
       "      <td>9.038339</td>\n",
       "      <td>0.909617</td>\n",
       "      <td>831.33600</td>\n",
       "      <td>68.66400</td>\n",
       "      <td>...</td>\n",
       "      <td>73930.0</td>\n",
       "      <td>7346.0</td>\n",
       "      <td>117037440.0</td>\n",
       "      <td>106459200.0</td>\n",
       "      <td>0.058749</td>\n",
       "      <td>0.886758</td>\n",
       "      <td>0.001751</td>\n",
       "      <td>b'B'</td>\n",
       "      <td>0.000000</td>\n",
       "      <td>b'No Block'</td>\n",
       "    </tr>\n",
       "    <tr>\n",
       "      <th>3</th>\n",
       "      <td>9.0</td>\n",
       "      <td>0.368775</td>\n",
       "      <td>0.637710</td>\n",
       "      <td>100.0</td>\n",
       "      <td>0.000552</td>\n",
       "      <td>63.737843</td>\n",
       "      <td>63.770999</td>\n",
       "      <td>0.362290</td>\n",
       "      <td>36.87750</td>\n",
       "      <td>63.12250</td>\n",
       "      <td>...</td>\n",
       "      <td>3278.0</td>\n",
       "      <td>5770.0</td>\n",
       "      <td>13029120.0</td>\n",
       "      <td>4720320.0</td>\n",
       "      <td>0.522922</td>\n",
       "      <td>0.324522</td>\n",
       "      <td>0.001776</td>\n",
       "      <td>b'NB'</td>\n",
       "      <td>0.439255</td>\n",
       "      <td>b'Block'</td>\n",
       "    </tr>\n",
       "    <tr>\n",
       "      <th>4</th>\n",
       "      <td>3.0</td>\n",
       "      <td>0.905217</td>\n",
       "      <td>0.108670</td>\n",
       "      <td>800.0</td>\n",
       "      <td>0.000497</td>\n",
       "      <td>10.864208</td>\n",
       "      <td>10.866977</td>\n",
       "      <td>0.891330</td>\n",
       "      <td>724.17375</td>\n",
       "      <td>75.82625</td>\n",
       "      <td>...</td>\n",
       "      <td>64379.0</td>\n",
       "      <td>7849.0</td>\n",
       "      <td>104008320.0</td>\n",
       "      <td>92705760.0</td>\n",
       "      <td>0.076069</td>\n",
       "      <td>0.869009</td>\n",
       "      <td>0.001767</td>\n",
       "      <td>b'B'</td>\n",
       "      <td>0.000000</td>\n",
       "      <td>b'No Block'</td>\n",
       "    </tr>\n",
       "  </tbody>\n",
       "</table>\n",
       "<p>5 rows × 22 columns</p>\n",
       "</div>"
      ],
      "text/plain": [
       "   Node  Utilised Bandwith Rate  Packet Drop Rate  Full_Bandwidth  \\\n",
       "0   3.0                0.822038          0.190381          1000.0   \n",
       "1   9.0                0.275513          0.729111           100.0   \n",
       "2   3.0                0.923707          0.090383           900.0   \n",
       "3   9.0                0.368775          0.637710           100.0   \n",
       "4   3.0                0.905217          0.108670           800.0   \n",
       "\n",
       "   Average_Delay_Time_Per_Sec  Percentage_Of_Lost_Pcaket_Rate  \\\n",
       "0                    0.004815                       19.031487   \n",
       "1                    0.004815                       72.889036   \n",
       "2                    0.000633                        9.035834   \n",
       "3                    0.000552                       63.737843   \n",
       "4                    0.000497                       10.864208   \n",
       "\n",
       "   Percentage_Of_Lost_Byte_Rate  Packet Received  Rate  of Used_Bandwidth  \\\n",
       "0                     19.038129               0.809619          822.03750   \n",
       "1                     72.911141               0.270889           27.55125   \n",
       "2                      9.038339               0.909617          831.33600   \n",
       "3                     63.770999               0.362290           36.87750   \n",
       "4                     10.866977               0.891330          724.17375   \n",
       "\n",
       "   Lost_Bandwidth  ...  Packet_Received  Packet_lost  Transmitted_Byte  \\\n",
       "0       177.96250  ...          73128.0      17196.0       130066560.0   \n",
       "1        72.44875  ...           2451.0       6598.0        13029120.0   \n",
       "2        68.66400  ...          73930.0       7346.0       117037440.0   \n",
       "3        63.12250  ...           3278.0       5770.0        13029120.0   \n",
       "4        75.82625  ...          64379.0       7849.0       104008320.0   \n",
       "\n",
       "   Received_Byte  10-Run-AVG-Drop-Rate  10-Run-AVG-Bandwith-Use  10-Run-Delay  \\\n",
       "0    105304320.0              0.146594                 0.780936      0.001838   \n",
       "1      3529440.0              0.517669                 0.242451      0.002236   \n",
       "2    106459200.0              0.058749                 0.886758      0.001751   \n",
       "3      4720320.0              0.522922                 0.324522      0.001776   \n",
       "4     92705760.0              0.076069                 0.869009      0.001767   \n",
       "\n",
       "   Node Status  Flood Status           Class  \n",
       "0         b'B'      0.023455  b'NB-No Block'  \n",
       "1        b'NB'      0.460725        b'Block'  \n",
       "2         b'B'      0.000000     b'No Block'  \n",
       "3        b'NB'      0.439255        b'Block'  \n",
       "4         b'B'      0.000000     b'No Block'  \n",
       "\n",
       "[5 rows x 22 columns]"
      ]
     },
     "execution_count": 3,
     "metadata": {},
     "output_type": "execute_result"
    }
   ],
   "source": [
    "from scipy.io import arff\n",
    "import pandas as pd\n",
    "\n",
    "data = arff.loadarff('OBS-Network-DataSet_2_Aug27.arff')\n",
    "df = pd.DataFrame(data[0])\n",
    "df.head()"
   ]
  },
  {
   "cell_type": "code",
   "execution_count": 4,
   "metadata": {},
   "outputs": [],
   "source": [
    "df = df.drop('Node Status', axis=1)\n",
    "df = df.dropna(subset=['Packet_lost'])"
   ]
  },
  {
   "cell_type": "code",
   "execution_count": 5,
   "metadata": {},
   "outputs": [],
   "source": [
    "from sklearn.preprocessing import LabelEncoder \n",
    "labelencoder= LabelEncoder()\n",
    "df.Class = labelencoder.fit_transform(df.Class)"
   ]
  },
  {
   "cell_type": "code",
   "execution_count": 6,
   "metadata": {},
   "outputs": [
    {
     "data": {
      "text/plain": [
       "((1060, 20), (1060,))"
      ]
     },
     "execution_count": 6,
     "metadata": {},
     "output_type": "execute_result"
    }
   ],
   "source": [
    "X = df.iloc[:,:-1].to_numpy()\n",
    "y = df.iloc[:,-1].to_numpy()\n",
    "X.shape, y.shape"
   ]
  },
  {
   "cell_type": "code",
   "execution_count": 7,
   "metadata": {},
   "outputs": [
    {
     "data": {
      "text/plain": [
       "((795, 20), (265, 20), (795,), (265,))"
      ]
     },
     "execution_count": 7,
     "metadata": {},
     "output_type": "execute_result"
    }
   ],
   "source": [
    "from sklearn.model_selection import train_test_split\n",
    "X_tr, X_te, y_tr, y_te = train_test_split(X, y, random_state=42)\n",
    "X_tr.shape, X_te.shape, y_tr.shape, y_te.shape"
   ]
  },
  {
   "cell_type": "markdown",
   "metadata": {},
   "source": [
    "# Classificador Voting"
   ]
  },
  {
   "cell_type": "code",
   "execution_count": 8,
   "metadata": {},
   "outputs": [
    {
     "data": {
      "text/plain": [
       "(array([0.93710692, 0.86163522, 0.79874214, 0.82389937, 0.87421384,\n",
       "        0.79245283, 0.90566038, 0.88679245, 0.87421384, 0.89937107,\n",
       "        0.89937107, 0.90566038, 0.90566038, 0.80503145, 0.88679245,\n",
       "        0.94968553, 0.86163522, 0.86163522, 0.88050314, 0.91194969,\n",
       "        0.86163522, 0.86792453, 0.91194969, 0.86163522, 0.83018868,\n",
       "        0.88050314, 0.91194969, 0.8427673 , 0.88679245, 0.91823899,\n",
       "        0.83647799, 0.90566038, 0.93081761, 0.88050314, 0.89308176,\n",
       "        0.9245283 , 0.88050314, 0.86792453, 0.85534591, 0.91823899,\n",
       "        0.89937107, 0.9245283 , 0.86163522, 0.86792453, 0.86792453,\n",
       "        0.93081761, 0.86792453, 0.88679245, 0.8490566 , 0.87421384]),\n",
       " 0.880377358490566,\n",
       " 0.03480187414791209)"
      ]
     },
     "execution_count": 8,
     "metadata": {},
     "output_type": "execute_result"
    }
   ],
   "source": [
    "from sklearn.ensemble import RandomForestClassifier, VotingClassifier\n",
    "from sklearn.model_selection import GridSearchCV, cross_validate, RepeatedKFold\n",
    "import numpy as np\n",
    "from sklearn.pipeline import Pipeline\n",
    "\n",
    "pipetotal = Pipeline([\n",
    "    #('atributosDesejados', AtributosDesejados()),\n",
    "    #('trataAtributos', trataAtributos),\n",
    "    ('classificador', VotingClassifier([\n",
    "        ('knn', KNeighborsClassifier()),\n",
    "        ('naivebayes', GaussianNB()),\n",
    "        ('lr', LogisticRegression())\n",
    "    ])\n",
    ")])\n",
    "\n",
    "parametros = {\n",
    "    'classificador__knn__n_neighbors': [3, 5, 7, 9],\n",
    "    'classificador__lr__penalty': ['none', 'l2', 'l1', 'elasticnet'],\n",
    "    'classificador__voting': ['hard', 'soft'],\n",
    "}\n",
    "modelo = GridSearchCV(pipetotal, param_grid=parametros)\n",
    "\n",
    "scores = cross_validate(modelo, X_tr, y_tr, cv=RepeatedKFold(random_state=101))\n",
    "scores['test_score'], np.mean(scores['test_score']), np.std(scores['test_score'])"
   ]
  },
  {
   "cell_type": "code",
   "execution_count": 9,
   "metadata": {},
   "outputs": [
    {
     "name": "stdout",
     "output_type": "stream",
     "text": [
      "Accuracy stacking classifier : 0.8981132075471698\n"
     ]
    }
   ],
   "source": [
    "from sklearn.metrics import accuracy_score\n",
    "\n",
    "modelo.fit(X_tr, y_tr)\n",
    "y_pred = modelo.predict(X_te)\n",
    "\n",
    "print(\"Accuracy stacking classifier :\", accuracy_score(y_te, y_pred))"
   ]
  },
  {
   "cell_type": "markdown",
   "metadata": {},
   "source": [
    "# Classificador Stacking"
   ]
  },
  {
   "cell_type": "code",
   "execution_count": 10,
   "metadata": {},
   "outputs": [
    {
     "data": {
      "text/plain": [
       "(array([0.90566038, 0.90566038, 0.94968553, 0.94339623, 0.95597484,\n",
       "        0.94968553, 0.95597484, 0.98742138, 0.9245283 , 0.91823899,\n",
       "        0.93081761, 0.89308176, 0.94339623, 0.95597484, 0.99371069,\n",
       "        0.93710692, 0.9245283 , 0.94339623, 0.95597484, 0.96226415,\n",
       "        0.96855346, 0.96855346, 0.94339623, 0.97484277, 0.9245283 ,\n",
       "        0.96226415, 0.97484277, 0.96855346, 0.94339623, 0.95597484,\n",
       "        0.99371069, 0.9245283 , 0.98742138, 0.96855346, 0.96226415,\n",
       "        0.96226415, 0.89937107, 0.97484277, 0.98113208, 0.91823899,\n",
       "        0.96226415, 0.95597484, 0.94339623, 0.91194969, 0.98113208,\n",
       "        0.96855346, 0.98113208, 0.96226415, 0.97484277, 0.9245283 ]),\n",
       " 0.9511949685534592,\n",
       " 0.025300222564577857)"
      ]
     },
     "execution_count": 10,
     "metadata": {},
     "output_type": "execute_result"
    }
   ],
   "source": [
    "from sklearn.tree import DecisionTreeClassifier\n",
    "from sklearn.ensemble import StackingClassifier\n",
    "\n",
    "estimators = [  ('knn', KNeighborsClassifier()),\n",
    "                ('naivebayes', GaussianNB()),\n",
    "                ('lr', LogisticRegression())]\n",
    "\n",
    "\n",
    "pipetotal = Pipeline([\n",
    "    ('classificador', StackingClassifier(estimators))\n",
    "])\n",
    "\n",
    "\n",
    "params = {\n",
    "    'classificador__knn__n_neighbors': [5, 9],\n",
    "    'classificador__lr__penalty': ['none', 'l2', 'l1', 'elasticnet'],\n",
    "    'classificador__passthrough': [True, False],\n",
    "    #'classificador__estimators': [estimators],\n",
    "    'classificador__final_estimator': [DecisionTreeClassifier()],\n",
    "    'classificador__cv': [3, 5]\n",
    "    }\n",
    "\n",
    "modelo_stacking = GridSearchCV(estimator=pipetotal, param_grid=params, cv=5)\n",
    "\n",
    "scores = cross_validate(modelo_stacking, X_tr, y_tr, cv=RepeatedKFold(random_state=101))\n",
    "scores['test_score'], np.mean(scores['test_score']), np.std(scores['test_score'])"
   ]
  },
  {
   "cell_type": "code",
   "execution_count": 11,
   "metadata": {},
   "outputs": [
    {
     "name": "stdout",
     "output_type": "stream",
     "text": [
      "Accuracy stacking classifier : 0.8867924528301887\n"
     ]
    }
   ],
   "source": [
    "modelo_stacking.fit(X_tr, y_tr)\n",
    "y_pred = modelo_stacking.predict(X_te)\n",
    "\n",
    "print(\"Accuracy stacking classifier :\", accuracy_score(y_te, y_pred))"
   ]
  }
 ],
 "metadata": {
  "interpreter": {
   "hash": "02319eaa1067495d54db6d0a82a720f2ad871ac4543ee1d473cf139b55287a64"
  },
  "kernelspec": {
   "display_name": "Python 3.8.8 64-bit ('base': conda)",
   "language": "python",
   "name": "python3"
  },
  "language_info": {
   "codemirror_mode": {
    "name": "ipython",
    "version": 3
   },
   "file_extension": ".py",
   "mimetype": "text/x-python",
   "name": "python",
   "nbconvert_exporter": "python",
   "pygments_lexer": "ipython3",
   "version": "3.8.8"
  },
  "orig_nbformat": 4
 },
 "nbformat": 4,
 "nbformat_minor": 2
}
